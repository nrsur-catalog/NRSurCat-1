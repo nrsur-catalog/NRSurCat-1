{
 "cells": [
  {
   "cell_type": "markdown",
   "id": "3e33c2b5",
   "metadata": {},
   "source": [
    "<a href=\"https://colab.research.google.com/github/cjhaster/NRSurrogateCatalog/blob/gh-pages/_sources/events/GW190513_205428.ipynb\" target=\"_parent\"><img src=\"https://colab.research.google.com/assets/colab-badge.svg\" alt=\"Open in Colab\"/></a>"
   ]
  },
  {
   "cell_type": "code",
   "execution_count": null,
   "id": "0a176189",
   "metadata": {
    "tags": [
     "remove-input"
    ]
   },
   "outputs": [],
   "source": [
    "%load_ext autoreload\n",
    "%autoreload 2\n",
    "%matplotlib inline\n",
    "\n",
    "import pandas as pd\n",
    "\n",
    "pd.set_option(\"display.max_rows\", None, \"display.max_columns\", None)"
   ]
  },
  {
   "cell_type": "code",
   "execution_count": null,
   "id": "8ac0eb1e",
   "metadata": {
    "tags": [
     "hide-cell"
    ]
   },
   "outputs": [],
   "source": [
    "! pip install nrsur_catalog"
   ]
  },
  {
   "cell_type": "markdown",
   "id": "ddc9139b",
   "metadata": {},
   "source": [
    "# GW190513_205428\n",
    "\n",
    "Below are some plots for GW190513_205428 from the NRSurrogate Catalog."
   ]
  },
  {
   "cell_type": "code",
   "execution_count": null,
   "id": "d3f920af",
   "metadata": {
    "tags": [
     "remove-output"
    ]
   },
   "outputs": [],
   "source": [
    "from nrsur_catalog import NRsurResult\n",
    "\n",
    "nrsur_result = NRsurResult.load(\"GW190513_205428\", cache_dir=\".nrsur_catalog_cache\")\n",
    "# you can specify a `cache_dir`: folder where data will be downloaded"
   ]
  },
  {
   "cell_type": "markdown",
   "id": "2f8d851a",
   "metadata": {},
   "source": [
    "## Summary"
   ]
  },
  {
   "cell_type": "code",
   "execution_count": null,
   "id": "eaa65614",
   "metadata": {
    "tags": [
     "remove-output"
    ]
   },
   "outputs": [],
   "source": [
    "nrsur_result.summary()"
   ]
  },
  {
   "cell_type": "markdown",
   "id": "beaecd57",
   "metadata": {},
   "source": [
    "\n",
    "\n",
    "| Parameter                                | Posterior 90% CI                  | Prior                                           |\n",
    "|:-----------------------------------------|:----------------------------------|:------------------------------------------------|\n",
    "| $\\chi_1$                                 | ${0.32}_{-0.22}^{+0.32}$          | $\\text{Uniform} [0, 0.99]$                      |\n",
    "| $\\chi_2$                                 | ${0.45}_{-0.31}^{+0.35}$          | $\\text{Uniform} [0, 0.99]$                      |\n",
    "| $\\phi$                                   | ${4.78}_{-2.62}^{+0.51}$          | $\\text{Uniform} [0, 6.28]$                      |\n",
    "| $\\mathcal{M}_{c}^{\\rm det}\\ [M_{\\odot}]$ | ${29.65}_{-1.82}^{+2.93}$         | $\\text{UniformInComponentsChirpMass} [12, 400]$ |\n",
    "| $t_c\\ [s]$                               | ${1241816086.76}_{-0.04}^{+0.00}$ | $\\text{Uniform} [1241816086.65, 1241816086.85]$ |\n",
    "| $d_L\\ [Mpc]$                             | ${2142.56}_{-509.18}^{+523.65}$   | $\\text{UniformSourceFrame} [100.0, 10000.0]$    |\n",
    "| $q$                                      | ${0.52}_{-0.15}^{+0.27}$          | $\\text{UniformInComponentsMassRatio} [0.17, 1]$ |\n",
    "| $\\phi$                                   | ${2.73}_{-1.71}^{+2.28}$          | $\\text{Uniform} [0, 6.28]$                      |\n",
    "| $\\phi_{12}$                              | ${3.08}_{-2.15}^{+2.23}$          | $\\text{Uniform} [0, 6.28]$                      |\n",
    "| $\\phi_{\\mathrm{JL}}$                     | ${2.89}_{-1.81}^{+2.14}$          | $\\text{Uniform} [0, 6.28]$                      |\n",
    "| $\\psi$                                   | ${1.73}_{-1.17}^{+0.91}$          | $\\text{Uniform} [0, 3.14]$                      |\n",
    "| $\\theta_{\\mathrm{JN}}$                   | ${0.71}_{-0.35}^{+1.72}$          | $\\text{Sine} [0, 3.14]$                         |\n",
    "| $\\theta_1$                               | ${1.14}_{-0.53}^{+0.65}$          | $\\text{Sine} [0, 3.14]$                         |\n",
    "| $\\theta_2$                               | ${1.35}_{-0.65}^{+0.72}$          | $\\text{Sine} [0, 3.14]$                         |\n",
    "| ${M}^{\\rm det}\\ [M_{\\odot}]$             | ${73.73}_{-4.60}^{+6.70}$         | $\\text{Constraint} [60, 400]$                   |\n",
    "| $\\theta$                                 | ${1.19}_{-0.04}^{+0.04}$          | $\\text{Sine} [0, 3.14]$                         |\n",
    "| $m_1^{\\rm src}\\ [M_{\\odot}]$             | ${35.27}_{-6.47}^{+6.42}$         | $-$                                             |\n",
    "| $m_2^{\\rm src}\\ [M_{\\odot}]$             | ${18.16}_{-3.43}^{+4.97}$         | $-$                                             |\n",
    "| $\\chi_{\\mathrm{eff}}$                    | ${0.11}_{-0.11}^{+0.16}$          | $-$                                             |\n",
    "| $\\chi_{\\mathrm{p}}$                      | ${0.30}_{-0.16}^{+0.25}$          | $-$                                             |\n",
    "| $\\alpha$                                 | ${0.93}_{-0.15}^{+4.08}$          | $-$                                             |\n",
    "| $\\delta$                                 | ${0.54}_{-1.05}^{+0.46}$          | $-$                                             |\n",
    "| $M_f^{\\rm src}\\ [M_{\\odot}]$             | ${70.62}_{-4.55}^{+6.26}$         | $-$                                             |\n",
    "| $\\chi_f$                                 | ${0.69}_{-0.08}^{+0.08}$          | $-$                                             |\n",
    "| $v_f\\ [{\\rm km/s}]$                      | ${350.69}_{-182.05}^{+550.90}$    | $-$                                             |\n",
    "\n",
    "\n",
    "_Note: For most events the kick inference is dominated by the prior itself, see Figs. 10 and 11 of [Islam et al, 2023](PAPER)._"
   ]
  },
  {
   "cell_type": "markdown",
   "id": "24e4f960",
   "metadata": {},
   "source": [
    "Lets make some plots!"
   ]
  },
  {
   "cell_type": "code",
   "execution_count": null,
   "id": "ff50e3b4",
   "metadata": {
    "tags": [
     "hide-input",
     "remove-output"
    ]
   },
   "outputs": [],
   "source": [
    "# NRSurrogate corner plots\n",
    "\n",
    "import os\n",
    "\n",
    "param_sets = dict(\n",
    "    mass=[\"mass_1_source\", \"mass_2_source\", \"mass_ratio\"],\n",
    "    spin=[\"a_1\", \"a_2\", \"tilt_1\", \"tilt_2\"],\n",
    "    effective_spin=[\"mass_ratio\", \"chi_eff\", \"chi_p\"],\n",
    "    sky_localisation=[\"luminosity_distance\", \"ra\", \"dec\"],\n",
    "    remnant=[\"final_mass\", \"final_spin\", \"final_kick\"],\n",
    ")\n",
    "for name, params in param_sets.items():\n",
    "    fname = f\"GW190513_205428_{name}_corner.png\"\n",
    "    if not os.path.isfile(fname):\n",
    "        fig = nrsur_result.plot_corner(params)\n",
    "        fig.savefig(fname)\n",
    "\n",
    "    if name == \"remnant\":\n",
    "        continue\n",
    "\n",
    "    # LVK-Comparison plots\n",
    "    fname = f\"GW190513_205428_compare_{name}_corner.png\"\n",
    "    if not os.path.isfile(fname):\n",
    "        fig = nrsur_result.plot_lvk_comparison_corner(params)\n",
    "        fig.savefig(fname)\n"
   ]
  },
  {
   "cell_type": "markdown",
   "id": "2496cd93",
   "metadata": {},
   "source": [
    "## Corner Plots\n",
    "\n",
    "\n",
    "Corner plots of the NRSurCat-1 posteriors. The plots along the diagonal display the 1D marginalized posteriors, with the median values and the central $1\\sigma$ credible regions indicated as text. The contour plots display the joint 2D posteriors at the $1,2,3\\sigma$ regions. The LVK posteriors are plotted using the IMRPhenomXPHM samples obtained from the the [GWTC-2.1](https://zenodo.org/record/6513631) and [GWTC-3](https://zenodo.org/record/5546663) zenodo releases. \n",
    "\n",
    "### Mass\n",
    "\n",
    "\n",
    "::::{tab-set}\n",
    "\n",
    ":::{tab-item} NRSurrogate\n",
    ":sync: key1\n",
    "\n",
    "![\"GW190513_205428_mass_corner.png\"](GW190513_205428_mass_corner.png)\n",
    ":::\n",
    "\n",
    ":::{tab-item} LVK-Comparison\n",
    ":sync: key2\n",
    "\n",
    "![\"GW190513_205428_compare_mass_corner.png\"](GW190513_205428_compare_mass_corner.png)\n",
    ":::\n",
    "\n",
    "::::\n",
    "\n",
    "Posterior corner plots for the component masses, and mass-ratio ($m_1^{\\rm src}, m_2^{\\rm src}, q$). Component masses are shown in the source frame.\n",
    "\n",
    "\n",
    "\n",
    "### Spin\n",
    "\n",
    "\n",
    "::::{tab-set}\n",
    "\n",
    ":::{tab-item} NRSurrogate\n",
    ":sync: key1\n",
    "\n",
    "![\"GW190513_205428_spin_corner.png\"](GW190513_205428_spin_corner.png)\n",
    ":::\n",
    "\n",
    ":::{tab-item} LVK-Comparison\n",
    ":sync: key2\n",
    "\n",
    "![\"GW190513_205428_compare_spin_corner.png\"](GW190513_205428_compare_spin_corner.png)\n",
    ":::\n",
    "\n",
    "::::\n",
    "\n",
    "Posterior corner plots for the component spin magnitudes ($\\chi_1, \\chi_2$) and tilt angles ($\\theta_1, \\theta_2$).\n",
    "\n",
    "\n",
    "### Effective Spin\n",
    "\n",
    "\n",
    "::::{tab-set}\n",
    "\n",
    ":::{tab-item} NRSurrogate\n",
    ":sync: key1\n",
    "\n",
    "![\"GW190513_205428_effective_spin_corner.png\"](GW190513_205428_effective_spin_corner.png)\n",
    ":::\n",
    "\n",
    ":::{tab-item} LVK-Comparison\n",
    ":sync: key2\n",
    "\n",
    "![\"GW190513_205428_compare_effective_spin_corner.png\"](GW190513_205428_compare_effective_spin_corner.png)\n",
    ":::\n",
    "\n",
    "::::\n",
    "\n",
    "Posterior corner plots for the mass-ratio $q$, effective spin $\\chi_{\\rm eff}$ and the transverse spin precession parameters $\\chi_p$.\n",
    "\n",
    "\n",
    "### Sky-localisation\n",
    "\n",
    "\n",
    "::::{tab-set}\n",
    "\n",
    ":::{tab-item} NRSurrogate\n",
    ":sync: key1\n",
    "\n",
    "![\"GW190513_205428_sky_localisation_corner.png\"](GW190513_205428_sky_localisation_corner.png)\n",
    ":::\n",
    "\n",
    ":::{tab-item} LVK-Comparison\n",
    ":sync: key2\n",
    "\n",
    "![\"GW190513_205428_compare_sky_localisation_corner.png\"](GW190513_205428_compare_sky_localisation_corner.png)\n",
    ":::\n",
    "\n",
    "::::\n",
    "\n",
    "Posterior corner plots for the luminosity distance, ra and dec ($d_L, \\alpha, \\delta$).\n",
    "\n",
    "\n",
    "\n",
    "### Remnant\n",
    "\n",
    "![\"GW190513_205428_remnant_corner.png\"](GW190513_205428_remnant_corner.png)\n",
    "\n",
    "\n",
    "Posterior corner plots for the remnant mass, remnant spin magnitude and kick ($M_f^{\\rm src}, \\chi_f, v_f$)."
   ]
  },
  {
   "cell_type": "markdown",
   "id": "46aca0cb",
   "metadata": {
    "tags": [
     "remove-cell"
    ]
   },
   "source": [
    "## Waveform posterior-predictive plot\n",
    "\n",
    "This is a plot of waveforms generated using 1000 random posterior samples from the event's posterior."
   ]
  },
  {
   "cell_type": "code",
   "execution_count": null,
   "id": "81a6756d",
   "metadata": {
    "lines_to_next_cell": 2,
    "tags": [
     "hide-input",
     "remove-output",
     "remove-cell"
    ]
   },
   "outputs": [],
   "source": [
    "fname = f\"GW190513_205428_waveform.png\"\n",
    "if not os.path.isfile(fname):\n",
    "    fig = nrsur_result.plot_signal(outdir=\".\")"
   ]
  },
  {
   "cell_type": "markdown",
   "id": "90a7314b",
   "metadata": {
    "lines_to_next_cell": 2,
    "tags": [
     "remove-cell"
    ]
   },
   "source": [
    "![waveform](GW190513_205428_waveform.png)"
   ]
  },
  {
   "cell_type": "markdown",
   "id": "96bfbb8d",
   "metadata": {
    "lines_to_next_cell": 2,
    "tags": [
     "full-width"
    ]
   },
   "source": [
    "## Animations  \n",
    "Here are some animations of the posterior.\n",
    "\n",
    "|Spin       | \n",
    "|-----------|\n",
    "| <video width=\"630\" height=\"315\" controls muted loop autoplay><source src=\"https://nrsur-catalog.github.io/NRSurCat-1-animations-spins/GW190513_205428_spins.mp4\" type=\"video/mp4\"> Your browser does not support the video tag.</video>    |  \n",
    "\n",
    "Posterior samples for the dimensionless spin vectors ($\\chi_1, \\chi_2$) \n",
    "of the component black holes. Each purple marker indicates a posterior sample; \n",
    "an arrow drawn from the origin to the marker would show the spin vector. \n",
    "The outer radii of the spheres correspond to the maximum spin magnitude of 1. \n",
    "The spins are shown in the \"wave frame\" defined at a reference frequency of 20 Hz. \n",
    "The x-axis (orange) and y-axis (green) are shown as arrows near the origin; \n",
    "the x-y plane is orthogonal to the orbital angular momentum direction. \n",
    "The color reflects posterior probability density.\n",
    "\n",
    "|Remnant       | \n",
    "|-----------|\n",
    "| <video width=\"630\" height=\"315\" controls muted loop autoplay><source src=\"https://nrsur-catalog.github.io/NRSurCat-1-animations-remnant/GW190513_205428_remnant.mp4\" type=\"video/mp4\"> Your browser does not support the video tag.</video>    | \n",
    "\n",
    "Posterior samples for the dimensionless spin vector $\\chi_f$ and the recoil kick velocity \n",
    "$v_f$, (units of km/s). Each purple marker indicates a posterior sample; \n",
    "an arrow drawn from the origin to the marker would show the spin or kick vector. \n",
    "For the spin, the outer radii of the spheres correspond to the maximum spin magnitude of 1. \n",
    "For the kick, the outer radius of the sphere corresponds to a kick magnitude of 2500 km/s.\n",
    "The remnant spin and kick are shown in the \"wave frame\" defined at a \n",
    "reference time of -100 $M^{\\rm det}\\ [M_{\\odot}]$ before the peak waveform amplitude,\n",
    "where $M^{\\rm det}$ is the detector frame total mass.\n"
   ]
  },
  {
   "cell_type": "markdown",
   "id": "ea39633b",
   "metadata": {},
   "source": [
    "## Analysis configs\n",
    "Below are the configs used for the analysis of this job."
   ]
  },
  {
   "cell_type": "code",
   "execution_count": null,
   "id": "5e9e9402",
   "metadata": {
    "tags": [
     "output_scroll"
    ]
   },
   "outputs": [],
   "source": [
    "nrsur_result.print_configs()"
   ]
  },
  {
   "cell_type": "markdown",
   "id": "8275d2bc",
   "metadata": {},
   "source": [
    "If you used this data, please [cite this work](citation_section).\n",
    "\n",
    "## Comments\n",
    "Leave a comment in this [issue](https://github.com/nrsur-catalog/NRSurCat-1/issues/new?title=GW190513_205428)."
   ]
  }
 ],
 "metadata": {
  "jupytext": {
   "formats": "ipynb,py:light"
  },
  "kernelspec": {
   "display_name": "nrsur",
   "language": "python",
   "name": "nrsur"
  }
 },
 "nbformat": 4,
 "nbformat_minor": 5
}
