{
 "cells": [
  {
   "cell_type": "markdown",
   "id": "0970689c",
   "metadata": {},
   "source": [
    "<a href=\"https://colab.research.google.com/github/cjhaster/NRSurrogateCatalog/blob/gh-pages/_sources/events/GW190731_140936.ipynb\" target=\"_parent\"><img src=\"https://colab.research.google.com/assets/colab-badge.svg\" alt=\"Open in Colab\"/></a>"
   ]
  },
  {
   "cell_type": "code",
   "execution_count": null,
   "id": "4f5a3b08",
   "metadata": {
    "tags": [
     "remove-input"
    ]
   },
   "outputs": [],
   "source": [
    "%load_ext autoreload\n",
    "%autoreload 2\n",
    "%matplotlib inline\n",
    "\n",
    "import pandas as pd\n",
    "\n",
    "pd.set_option(\"display.max_rows\", None, \"display.max_columns\", None)"
   ]
  },
  {
   "cell_type": "code",
   "execution_count": null,
   "id": "3a8e100c",
   "metadata": {
    "tags": [
     "hide-cell"
    ]
   },
   "outputs": [],
   "source": [
    "! pip install nrsur_catalog"
   ]
  },
  {
   "cell_type": "markdown",
   "id": "9304288b",
   "metadata": {},
   "source": [
    "# GW190731_140936\n",
    "\n",
    "Below are some plots for GW190731_140936 from the NRSurrogate Catalog.\n",
    "Note: these have been made with `nrsur_catalog` version 0.0.4."
   ]
  },
  {
   "cell_type": "code",
   "execution_count": null,
   "id": "f777948b",
   "metadata": {
    "tags": [
     "remove-output"
    ]
   },
   "outputs": [],
   "source": [
    "from nrsur_catalog import NRsurResult\n",
    "\n",
    "nrsur_result = NRsurResult.load(\"GW190731_140936\", cache_dir=\".nrsur_catalog_cache\")\n",
    "# you can specify a `cache_dir`: folder where data will be downloaded"
   ]
  },
  {
   "cell_type": "markdown",
   "id": "73f3dc5a",
   "metadata": {},
   "source": [
    "## Summary"
   ]
  },
  {
   "cell_type": "code",
   "execution_count": null,
   "id": "d765d659",
   "metadata": {
    "tags": [
     "remove-output"
    ]
   },
   "outputs": [],
   "source": [
    "nrsur_result.summary()"
   ]
  },
  {
   "cell_type": "markdown",
   "id": "4462ca05",
   "metadata": {},
   "source": [
    "\n",
    "\n",
    "| Parameter                                | Posterior 90% CI                  | Prior                                           |\n",
    "|:-----------------------------------------|:----------------------------------|:------------------------------------------------|\n",
    "| $\\chi_1$                                 | ${0.36}_{-0.25}^{+0.35}$          | $\\text{Uniform} [0, 0.99]$                      |\n",
    "| $\\chi_2$                                 | ${0.45}_{-0.31}^{+0.34}$          | $\\text{Uniform} [0, 0.99]$                      |\n",
    "| $\\phi$                                   | ${2.73}_{-1.23}^{+2.16}$          | $\\text{Uniform} [0, 6.28]$                      |\n",
    "| $\\mathcal{M}_{c}^{\\rm det}\\ [M_{\\odot}]$ | ${46.22}_{-5.06}^{+4.25}$         | $\\text{UniformInComponentsChirpMass} [12, 400]$ |\n",
    "| $t_c\\ [s]$                               | ${1248617394.62}_{-0.01}^{+0.02}$ | $\\text{Uniform} [1248617394.54, 1248617394.74]$ |\n",
    "| $d_L\\ [Mpc]$                             | ${3228.86}_{-1164.00}^{+1448.85}$ | $\\text{UniformSourceFrame} [100.0, 10000.0]$    |\n",
    "| $q$                                      | ${0.70}_{-0.20}^{+0.20}$          | $\\text{UniformInComponentsMassRatio} [0.17, 1]$ |\n",
    "| $\\phi$                                   | ${3.24}_{-2.16}^{+2.06}$          | $\\text{Uniform} [0, 6.28]$                      |\n",
    "| $\\phi_{12}$                              | ${3.10}_{-2.08}^{+2.16}$          | $\\text{Uniform} [0, 6.28]$                      |\n",
    "| $\\phi_{\\mathrm{JL}}$                     | ${3.16}_{-2.11}^{+2.12}$          | $\\text{Uniform} [0, 6.28]$                      |\n",
    "| $\\psi$                                   | ${1.60}_{-1.05}^{+1.02}$          | $\\text{Uniform} [0, 3.14]$                      |\n",
    "| $\\theta_{\\mathrm{JN}}$                   | ${1.61}_{-1.12}^{+1.04}$          | $\\text{Sine} [0, 3.14]$                         |\n",
    "| $\\theta_1$                               | ${1.41}_{-0.60}^{+0.67}$          | $\\text{Sine} [0, 3.14]$                         |\n",
    "| $\\theta_2$                               | ${1.43}_{-0.66}^{+0.72}$          | $\\text{Sine} [0, 3.14]$                         |\n",
    "| ${M}^{\\rm det}\\ [M_{\\odot}]$             | ${108.92}_{-8.80}^{+8.84}$        | $\\text{Constraint} [60, 400]$                   |\n",
    "| $\\theta$                                 | ${2.19}_{-0.06}^{+0.08}$          | $\\text{Sine} [0, 3.14]$                         |\n",
    "| $m_1^{\\rm src}\\ [M_{\\odot}]$             | ${41.65}_{-6.00}^{+7.00}$         | $-$                                             |\n",
    "| $m_2^{\\rm src}\\ [M_{\\odot}]$             | ${28.49}_{-5.92}^{+5.89}$         | $-$                                             |\n",
    "| $\\chi_{\\mathrm{eff}}$                    | ${0.05}_{-0.13}^{+0.15}$          | $-$                                             |\n",
    "| $\\chi_{\\mathrm{p}}$                      | ${0.38}_{-0.20}^{+0.28}$          | $-$                                             |\n",
    "| $\\alpha$                                 | ${2.45}_{-1.29}^{+0.84}$          | $-$                                             |\n",
    "| $\\delta$                                 | ${-0.58}_{-0.68}^{+0.77}$         | $-$                                             |\n",
    "| $M_f^{\\rm src}\\ [M_{\\odot}]$             | ${103.82}_{-7.86}^{+7.83}$        | $-$                                             |\n",
    "| $\\chi_f$                                 | ${0.69}_{-0.07}^{+0.06}$          | $-$                                             |\n",
    "| $v_f\\ [{\\rm km/s}]$                      | ${446.12}_{-269.43}^{+623.25}$    | $-$                                             |\n",
    "\n",
    "\n",
    "_Note: For most events the kick inference is dominated by the prior itself, see Figs. 10 and 11 of [Islam et al, 2023](https://arxiv.org/abs/2309.14473)._"
   ]
  },
  {
   "cell_type": "markdown",
   "id": "4d34fa31",
   "metadata": {},
   "source": [
    "Lets make some plots!"
   ]
  },
  {
   "cell_type": "code",
   "execution_count": null,
   "id": "3e42aa94",
   "metadata": {
    "tags": [
     "hide-input",
     "remove-output"
    ]
   },
   "outputs": [],
   "source": [
    "# NRSurrogate corner plots\n",
    "\n",
    "import os\n",
    "\n",
    "param_sets = dict(\n",
    "    mass=[\"mass_1_source\", \"mass_2_source\", \"mass_ratio\"],\n",
    "    spin=[\"a_1\", \"a_2\", \"tilt_1\", \"tilt_2\"],\n",
    "    effective_spin=[\"mass_ratio\", \"chi_eff\", \"chi_p\"],\n",
    "    sky_localisation=[\"luminosity_distance\", \"ra\", \"dec\"],\n",
    "    remnant=[\"final_mass\", \"final_spin\", \"final_kick\"],\n",
    ")\n",
    "for name, params in param_sets.items():\n",
    "    fname = f\"GW190731_140936_{name}_corner.png\"\n",
    "    if not os.path.isfile(fname):\n",
    "        fig = nrsur_result.plot_corner(params)\n",
    "        fig.savefig(fname)\n",
    "\n",
    "    if name == \"remnant\":\n",
    "        continue\n",
    "\n",
    "    # LVK-Comparison plots\n",
    "    fname = f\"GW190731_140936_compare_{name}_corner.png\"\n",
    "    if not os.path.isfile(fname):\n",
    "        fig = nrsur_result.plot_lvk_comparison_corner(params)\n",
    "        fig.savefig(fname)\n"
   ]
  },
  {
   "cell_type": "markdown",
   "id": "f2409b7c",
   "metadata": {},
   "source": [
    "## Corner Plots\n",
    "\n",
    "\n",
    "Corner plots of the NRSurCat-1 posteriors. The plots along the diagonal display the 1D marginalized posteriors, with the median values and the central $1\\sigma$ credible regions indicated as text. The contour plots display the joint 2D posteriors at the $1,2,3\\sigma$ regions. The LVK posteriors are plotted using the IMRPhenomXPHM samples obtained from the the [GWTC-2.1](https://zenodo.org/record/6513631) and [GWTC-3](https://zenodo.org/record/5546663) zenodo releases. \n",
    "\n",
    "### Mass\n",
    "\n",
    "\n",
    "::::{tab-set}\n",
    "\n",
    ":::{tab-item} NRSurrogate\n",
    ":sync: key1\n",
    "\n",
    "![\"GW190731_140936_mass_corner.png\"](GW190731_140936_mass_corner.png)\n",
    ":::\n",
    "\n",
    ":::{tab-item} LVK-Comparison\n",
    ":sync: key2\n",
    "\n",
    "![\"GW190731_140936_compare_mass_corner.png\"](GW190731_140936_compare_mass_corner.png)\n",
    ":::\n",
    "\n",
    "::::\n",
    "\n",
    "Posterior corner plots for the component masses, and mass-ratio ($m_1^{\\rm src}, m_2^{\\rm src}, q$). Component masses are shown in the source frame.\n",
    "\n",
    "\n",
    "\n",
    "### Spin\n",
    "\n",
    "\n",
    "::::{tab-set}\n",
    "\n",
    ":::{tab-item} NRSurrogate\n",
    ":sync: key1\n",
    "\n",
    "![\"GW190731_140936_spin_corner.png\"](GW190731_140936_spin_corner.png)\n",
    ":::\n",
    "\n",
    ":::{tab-item} LVK-Comparison\n",
    ":sync: key2\n",
    "\n",
    "![\"GW190731_140936_compare_spin_corner.png\"](GW190731_140936_compare_spin_corner.png)\n",
    ":::\n",
    "\n",
    "::::\n",
    "\n",
    "Posterior corner plots for the component spin magnitudes ($\\chi_1, \\chi_2$) and tilt angles ($\\theta_1, \\theta_2$).\n",
    "\n",
    "\n",
    "### Effective Spin\n",
    "\n",
    "\n",
    "::::{tab-set}\n",
    "\n",
    ":::{tab-item} NRSurrogate\n",
    ":sync: key1\n",
    "\n",
    "![\"GW190731_140936_effective_spin_corner.png\"](GW190731_140936_effective_spin_corner.png)\n",
    ":::\n",
    "\n",
    ":::{tab-item} LVK-Comparison\n",
    ":sync: key2\n",
    "\n",
    "![\"GW190731_140936_compare_effective_spin_corner.png\"](GW190731_140936_compare_effective_spin_corner.png)\n",
    ":::\n",
    "\n",
    "::::\n",
    "\n",
    "Posterior corner plots for the mass-ratio $q$, effective spin $\\chi_{\\rm eff}$ and the transverse spin precession parameters $\\chi_p$.\n",
    "\n",
    "\n",
    "### Sky-localisation\n",
    "\n",
    "\n",
    "::::{tab-set}\n",
    "\n",
    ":::{tab-item} NRSurrogate\n",
    ":sync: key1\n",
    "\n",
    "![\"GW190731_140936_sky_localisation_corner.png\"](GW190731_140936_sky_localisation_corner.png)\n",
    ":::\n",
    "\n",
    ":::{tab-item} LVK-Comparison\n",
    ":sync: key2\n",
    "\n",
    "![\"GW190731_140936_compare_sky_localisation_corner.png\"](GW190731_140936_compare_sky_localisation_corner.png)\n",
    ":::\n",
    "\n",
    "::::\n",
    "\n",
    "Posterior corner plots for the luminosity distance, ra and dec ($d_L, \\alpha, \\delta$).\n",
    "\n",
    "\n",
    "\n",
    "### Remnant\n",
    "\n",
    "![\"GW190731_140936_remnant_corner.png\"](GW190731_140936_remnant_corner.png)\n",
    "\n",
    "\n",
    "Posterior corner plots for the remnant mass, remnant spin magnitude and kick ($M_f^{\\rm src}, \\chi_f, v_f$)."
   ]
  },
  {
   "cell_type": "markdown",
   "id": "ffcedd61",
   "metadata": {
    "tags": [
     "remove-cell"
    ]
   },
   "source": [
    "## Waveform posterior-predictive plot\n",
    "\n",
    "This is a plot of waveforms generated using 1000 random posterior samples from the event's posterior."
   ]
  },
  {
   "cell_type": "code",
   "execution_count": null,
   "id": "0b3c4423",
   "metadata": {
    "lines_to_next_cell": 2,
    "tags": [
     "hide-input",
     "remove-output",
     "remove-cell"
    ]
   },
   "outputs": [],
   "source": [
    "fname = f\"GW190731_140936_waveform.png\"\n",
    "if not os.path.isfile(fname):\n",
    "    fig = nrsur_result.plot_signal(outdir=\".\")"
   ]
  },
  {
   "cell_type": "markdown",
   "id": "24bb7b58",
   "metadata": {
    "lines_to_next_cell": 2,
    "tags": [
     "remove-cell"
    ]
   },
   "source": [
    "![waveform](GW190731_140936_waveform.png)"
   ]
  },
  {
   "cell_type": "markdown",
   "id": "4a2b70bf",
   "metadata": {
    "lines_to_next_cell": 2,
    "tags": [
     "full-width"
    ]
   },
   "source": [
    "## Animations  \n",
    "Here are some animations of the posterior.\n",
    "\n",
    "|Spin       | \n",
    "|-----------|\n",
    "| <video width=\"630\" height=\"315\" controls muted loop autoplay><source src=\"https://nrsur-catalog.github.io/NRSurCat-1-animations-spins/GW190731_140936_spins.mp4\" type=\"video/mp4\"> Your browser does not support the video tag.</video>    |  \n",
    "\n",
    "Posterior samples for the dimensionless spin vectors ($\\chi_1, \\chi_2$) \n",
    "of the component black holes. Each purple marker indicates a posterior sample; \n",
    "an arrow drawn from the origin to the marker would show the spin vector. \n",
    "The outer radii of the spheres correspond to the maximum spin magnitude of 1. \n",
    "The spins are shown in the \"wave frame\" defined at a reference frequency of 20 Hz. \n",
    "The x-axis (orange) and y-axis (green) are shown as arrows near the origin; \n",
    "the x-y plane is orthogonal to the orbital angular momentum direction. \n",
    "The color reflects posterior probability density.\n",
    "\n",
    "|Remnant       | \n",
    "|-----------|\n",
    "| <video width=\"630\" height=\"315\" controls muted loop autoplay><source src=\"https://nrsur-catalog.github.io/NRSurCat-1-animations-remnant/GW190731_140936_remnant.mp4\" type=\"video/mp4\"> Your browser does not support the video tag.</video>    | \n",
    "\n",
    "Posterior samples for the dimensionless spin vector $\\chi_f$ and the recoil kick velocity \n",
    "$v_f$, (units of km/s). Each purple marker indicates a posterior sample; \n",
    "an arrow drawn from the origin to the marker would show the spin or kick vector. \n",
    "For the spin, the outer radii of the spheres correspond to the maximum spin magnitude of 1. \n",
    "For the kick, the outer radius of the sphere corresponds to a kick magnitude of 2500 km/s.\n",
    "The remnant spin and kick are shown in the \"wave frame\" defined at a \n",
    "reference time of -100 $M^{\\rm det}\\ [M_{\\odot}]$ before the peak waveform amplitude,\n",
    "where $M^{\\rm det}$ is the detector frame total mass.\n"
   ]
  },
  {
   "cell_type": "markdown",
   "id": "7a7743c1",
   "metadata": {},
   "source": [
    "## Analysis configs\n",
    "Below are the configs used for the analysis of this job."
   ]
  },
  {
   "cell_type": "code",
   "execution_count": null,
   "id": "eed0af7f",
   "metadata": {
    "tags": [
     "output_scroll"
    ]
   },
   "outputs": [],
   "source": [
    "nrsur_result.print_configs()"
   ]
  },
  {
   "cell_type": "markdown",
   "id": "d36a1ffb",
   "metadata": {},
   "source": [
    "If you used this data, please [cite this work](citation_section).\n",
    "\n",
    "## Comments\n",
    "Leave a comment in this [issue](https://github.com/nrsur-catalog/NRSurCat-1/issues/new?title=GW190731_140936)."
   ]
  }
 ],
 "metadata": {
  "jupytext": {
   "formats": "ipynb,py:light"
  },
  "kernelspec": {
   "display_name": "nrsur",
   "language": "python",
   "name": "nrsur"
  }
 },
 "nbformat": 4,
 "nbformat_minor": 5
}
