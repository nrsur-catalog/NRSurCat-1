{
 "cells": [
  {
   "cell_type": "markdown",
   "id": "2a24421b",
   "metadata": {},
   "source": [
    "<a href=\"https://colab.research.google.com/github/cjhaster/NRSurrogateCatalog/blob/gh-pages/_sources/events/GW190915_235702.ipynb\" target=\"_parent\"><img src=\"https://colab.research.google.com/assets/colab-badge.svg\" alt=\"Open in Colab\"/></a>"
   ]
  },
  {
   "cell_type": "code",
   "execution_count": null,
   "id": "79cb04cb",
   "metadata": {
    "tags": [
     "remove-input"
    ]
   },
   "outputs": [],
   "source": [
    "%load_ext autoreload\n",
    "%autoreload 2\n",
    "%matplotlib inline\n",
    "\n",
    "import pandas as pd\n",
    "\n",
    "pd.set_option(\"display.max_rows\", None, \"display.max_columns\", None)"
   ]
  },
  {
   "cell_type": "code",
   "execution_count": null,
   "id": "0caa2200",
   "metadata": {
    "tags": [
     "hide-cell"
    ]
   },
   "outputs": [],
   "source": [
    "! pip install nrsur_catalog"
   ]
  },
  {
   "cell_type": "markdown",
   "id": "758fbd70",
   "metadata": {},
   "source": [
    "# GW190915_235702\n",
    "\n",
    "Below are some plots for GW190915_235702 from the NRSurrogate Catalog."
   ]
  },
  {
   "cell_type": "code",
   "execution_count": null,
   "id": "ff0fb476",
   "metadata": {
    "tags": [
     "remove-output"
    ]
   },
   "outputs": [],
   "source": [
    "from nrsur_catalog import NRsurResult\n",
    "\n",
    "nrsur_result = NRsurResult.load(\"GW190915_235702\", cache_dir=\".nrsur_catalog_cache\")\n",
    "# you can specify a `cache_dir`: folder where data will be downloaded"
   ]
  },
  {
   "cell_type": "markdown",
   "id": "3a3e128d",
   "metadata": {},
   "source": [
    "## Summary"
   ]
  },
  {
   "cell_type": "code",
   "execution_count": null,
   "id": "639ffee0",
   "metadata": {
    "tags": [
     "remove-output"
    ]
   },
   "outputs": [],
   "source": [
    "nrsur_result.summary()"
   ]
  },
  {
   "cell_type": "markdown",
   "id": "ec058b3a",
   "metadata": {},
   "source": [
    "\n",
    "\n",
    "| Parameter                                | Posterior 90% CI                  | Prior                                           |\n",
    "|:-----------------------------------------|:----------------------------------|:------------------------------------------------|\n",
    "| $\\chi_1$                                 | ${0.56}_{-0.35}^{+0.29}$          | $\\text{Uniform} [0, 0.99]$                      |\n",
    "| $\\chi_2$                                 | ${0.48}_{-0.33}^{+0.34}$          | $\\text{Uniform} [0, 0.99]$                      |\n",
    "| $\\phi$                                   | ${4.86}_{-0.45}^{+0.62}$          | $\\text{Uniform} [0, 6.28]$                      |\n",
    "| $\\mathcal{M}_{c}^{\\rm det}\\ [M_{\\odot}]$ | ${32.05}_{-1.84}^{+1.70}$         | $\\text{UniformInComponentsChirpMass} [12, 400]$ |\n",
    "| $t_c\\ [s]$                               | ${1252627040.70}_{-0.00}^{+0.00}$ | $\\text{Uniform} [1252627040.59, 1252627040.79]$ |\n",
    "| $d_L\\ [Mpc]$                             | ${1819.30}_{-445.04}^{+444.61}$   | $\\text{UniformSourceFrame} [100.0, 10000.0]$    |\n",
    "| $q$                                      | ${0.73}_{-0.18}^{+0.17}$          | $\\text{UniformInComponentsMassRatio} [0.17, 1]$ |\n",
    "| $\\phi$                                   | ${3.00}_{-2.11}^{+2.32}$          | $\\text{Uniform} [0, 6.28]$                      |\n",
    "| $\\phi_{12}$                              | ${3.46}_{-2.51}^{+1.97}$          | $\\text{Uniform} [0, 6.28]$                      |\n",
    "| $\\phi_{\\mathrm{JL}}$                     | ${3.21}_{-1.75}^{+2.03}$          | $\\text{Uniform} [0, 6.28]$                      |\n",
    "| $\\psi$                                   | ${1.44}_{-0.99}^{+1.17}$          | $\\text{Uniform} [0, 3.14]$                      |\n",
    "| $\\theta_{\\mathrm{JN}}$                   | ${1.55}_{-0.99}^{+1.07}$          | $\\text{Sine} [0, 3.14]$                         |\n",
    "| $\\theta_1$                               | ${1.71}_{-0.50}^{+0.45}$          | $\\text{Sine} [0, 3.14]$                         |\n",
    "| $\\theta_2$                               | ${1.67}_{-0.66}^{+0.62}$          | $\\text{Sine} [0, 3.14]$                         |\n",
    "| ${M}^{\\rm det}\\ [M_{\\odot}]$             | ${75.35}_{-3.69}^{+3.73}$         | $\\text{Constraint} [60, 400]$                   |\n",
    "| $\\theta$                                 | ${0.92}_{-0.04}^{+0.05}$          | $\\text{Sine} [0, 3.14]$                         |\n",
    "| $m_1^{\\rm src}\\ [M_{\\odot}]$             | ${32.66}_{-3.57}^{+4.57}$         | $-$                                             |\n",
    "| $m_2^{\\rm src}\\ [M_{\\odot}]$             | ${23.69}_{-3.68}^{+3.14}$         | $-$                                             |\n",
    "| $\\chi_{\\mathrm{eff}}$                    | ${-0.06}_{-0.13}^{+0.12}$         | $-$                                             |\n",
    "| $\\chi_{\\mathrm{p}}$                      | ${0.57}_{-0.26}^{+0.24}$          | $-$                                             |\n",
    "| $\\alpha$                                 | ${3.40}_{-0.06}^{+0.05}$          | $-$                                             |\n",
    "| $\\delta$                                 | ${0.67}_{-0.37}^{+0.48}$          | $-$                                             |\n",
    "| $M_f^{\\rm src}\\ [M_{\\odot}]$             | ${71.95}_{-3.32}^{+3.39}$         | $-$                                             |\n",
    "| $\\chi_f$                                 | ${0.68}_{-0.05}^{+0.05}$          | $-$                                             |\n",
    "| $v_f\\ [{\\rm km/s}]$                      | ${641.91}_{-412.76}^{+638.56}$    | $-$                                             |\n",
    "\n",
    "\n",
    "_Note: For most events the kick inference is dominated by the prior itself, see Figs. 10 and 11 of [Islam et al, 2023](PAPER)._"
   ]
  },
  {
   "cell_type": "markdown",
   "id": "71aff72c",
   "metadata": {},
   "source": [
    "Lets make some plots!"
   ]
  },
  {
   "cell_type": "code",
   "execution_count": null,
   "id": "a2a0a2ce",
   "metadata": {
    "tags": [
     "hide-input",
     "remove-output"
    ]
   },
   "outputs": [],
   "source": [
    "# NRSurrogate corner plots\n",
    "\n",
    "import os\n",
    "\n",
    "param_sets = dict(\n",
    "    mass=[\"mass_1_source\", \"mass_2_source\", \"mass_ratio\"],\n",
    "    spin=[\"a_1\", \"a_2\", \"tilt_1\", \"tilt_2\"],\n",
    "    effective_spin=[\"mass_ratio\", \"chi_eff\", \"chi_p\"],\n",
    "    sky_localisation=[\"luminosity_distance\", \"ra\", \"dec\"],\n",
    "    remnant=[\"final_mass\", \"final_spin\", \"final_kick\"],\n",
    ")\n",
    "for name, params in param_sets.items():\n",
    "    fname = f\"GW190915_235702_{name}_corner.png\"\n",
    "    if not os.path.isfile(fname):\n",
    "        fig = nrsur_result.plot_corner(params)\n",
    "        fig.savefig(fname)\n",
    "\n",
    "    if name == \"remnant\":\n",
    "        continue\n",
    "\n",
    "    # LVK-Comparison plots\n",
    "    fname = f\"GW190915_235702_compare_{name}_corner.png\"\n",
    "    if not os.path.isfile(fname):\n",
    "        fig = nrsur_result.plot_lvk_comparison_corner(params)\n",
    "        fig.savefig(fname)\n"
   ]
  },
  {
   "cell_type": "markdown",
   "id": "af305648",
   "metadata": {},
   "source": [
    "## Corner Plots\n",
    "\n",
    "\n",
    "Corner plots of the NRSurCat-1 posteriors. The plots along the diagonal display the 1D marginalized posteriors, with the median values and the central $1\\sigma$ credible regions indicated as text. The contour plots display the joint 2D posteriors at the $1,2,3\\sigma$ regions. The LVK posteriors are plotted using the IMRPhenomXPHM samples obtained from the the [GWTC-2.1](https://zenodo.org/record/6513631) and [GWTC-3](https://zenodo.org/record/5546663) zenodo releases. \n",
    "\n",
    "### Mass\n",
    "\n",
    "\n",
    "::::{tab-set}\n",
    "\n",
    ":::{tab-item} NRSurrogate\n",
    ":sync: key1\n",
    "\n",
    "![\"GW190915_235702_mass_corner.png\"](GW190915_235702_mass_corner.png)\n",
    ":::\n",
    "\n",
    ":::{tab-item} LVK-Comparison\n",
    ":sync: key2\n",
    "\n",
    "![\"GW190915_235702_compare_mass_corner.png\"](GW190915_235702_compare_mass_corner.png)\n",
    ":::\n",
    "\n",
    "::::\n",
    "\n",
    "Posterior corner plots for the component masses, and mass-ratio ($m_1^{\\rm src}, m_2^{\\rm src}, q$). Component masses are shown in the source frame.\n",
    "\n",
    "\n",
    "\n",
    "### Spin\n",
    "\n",
    "\n",
    "::::{tab-set}\n",
    "\n",
    ":::{tab-item} NRSurrogate\n",
    ":sync: key1\n",
    "\n",
    "![\"GW190915_235702_spin_corner.png\"](GW190915_235702_spin_corner.png)\n",
    ":::\n",
    "\n",
    ":::{tab-item} LVK-Comparison\n",
    ":sync: key2\n",
    "\n",
    "![\"GW190915_235702_compare_spin_corner.png\"](GW190915_235702_compare_spin_corner.png)\n",
    ":::\n",
    "\n",
    "::::\n",
    "\n",
    "Posterior corner plots for the component spin magnitudes ($\\chi_1, \\chi_2$) and tilt angles ($\\theta_1, \\theta_2$).\n",
    "\n",
    "\n",
    "### Effective Spin\n",
    "\n",
    "\n",
    "::::{tab-set}\n",
    "\n",
    ":::{tab-item} NRSurrogate\n",
    ":sync: key1\n",
    "\n",
    "![\"GW190915_235702_effective_spin_corner.png\"](GW190915_235702_effective_spin_corner.png)\n",
    ":::\n",
    "\n",
    ":::{tab-item} LVK-Comparison\n",
    ":sync: key2\n",
    "\n",
    "![\"GW190915_235702_compare_effective_spin_corner.png\"](GW190915_235702_compare_effective_spin_corner.png)\n",
    ":::\n",
    "\n",
    "::::\n",
    "\n",
    "Posterior corner plots for the mass-ratio $q$, effective spin $\\chi_{\\rm eff}$ and the transverse spin precession parameters $\\chi_p$.\n",
    "\n",
    "\n",
    "### Sky-localisation\n",
    "\n",
    "\n",
    "::::{tab-set}\n",
    "\n",
    ":::{tab-item} NRSurrogate\n",
    ":sync: key1\n",
    "\n",
    "![\"GW190915_235702_sky_localisation_corner.png\"](GW190915_235702_sky_localisation_corner.png)\n",
    ":::\n",
    "\n",
    ":::{tab-item} LVK-Comparison\n",
    ":sync: key2\n",
    "\n",
    "![\"GW190915_235702_compare_sky_localisation_corner.png\"](GW190915_235702_compare_sky_localisation_corner.png)\n",
    ":::\n",
    "\n",
    "::::\n",
    "\n",
    "Posterior corner plots for the luminosity distance, ra and dec ($d_L, \\alpha, \\delta$).\n",
    "\n",
    "\n",
    "\n",
    "### Remnant\n",
    "\n",
    "![\"GW190915_235702_remnant_corner.png\"](GW190915_235702_remnant_corner.png)\n",
    "\n",
    "\n",
    "Posterior corner plots for the remnant mass, remnant spin magnitude and kick ($M_f^{\\rm src}, \\chi_f, v_f$)."
   ]
  },
  {
   "cell_type": "markdown",
   "id": "ba4f7081",
   "metadata": {
    "tags": [
     "remove-cell"
    ]
   },
   "source": [
    "## Waveform posterior-predictive plot\n",
    "\n",
    "This is a plot of waveforms generated using 1000 random posterior samples from the event's posterior."
   ]
  },
  {
   "cell_type": "code",
   "execution_count": null,
   "id": "74df74bf",
   "metadata": {
    "lines_to_next_cell": 2,
    "tags": [
     "hide-input",
     "remove-output",
     "remove-cell"
    ]
   },
   "outputs": [],
   "source": [
    "fname = f\"GW190915_235702_waveform.png\"\n",
    "if not os.path.isfile(fname):\n",
    "    fig = nrsur_result.plot_signal(outdir=\".\")"
   ]
  },
  {
   "cell_type": "markdown",
   "id": "d35261fc",
   "metadata": {
    "lines_to_next_cell": 2,
    "tags": [
     "remove-cell"
    ]
   },
   "source": [
    "![waveform](GW190915_235702_waveform.png)"
   ]
  },
  {
   "cell_type": "markdown",
   "id": "93b0d3e0",
   "metadata": {
    "lines_to_next_cell": 2,
    "tags": [
     "full-width"
    ]
   },
   "source": [
    "## Animations  \n",
    "Here are some animations of the posterior.\n",
    "\n",
    "|Spin       | \n",
    "|-----------|\n",
    "| <video width=\"630\" height=\"315\" controls muted loop autoplay><source src=\"https://nrsur-catalog.github.io/NRSurCat-1-animations-spins/GW190915_235702_spins.mp4\" type=\"video/mp4\"> Your browser does not support the video tag.</video>    |  \n",
    "\n",
    "Posterior samples for the dimensionless spin vectors ($\\chi_1, \\chi_2$) \n",
    "of the component black holes. Each purple marker indicates a posterior sample; \n",
    "an arrow drawn from the origin to the marker would show the spin vector. \n",
    "The outer radii of the spheres correspond to the maximum spin magnitude of 1. \n",
    "The spins are shown in the \"wave frame\" defined at a reference frequency of 20 Hz. \n",
    "The x-axis (orange) and y-axis (green) are shown as arrows near the origin; \n",
    "the x-y plane is orthogonal to the orbital angular momentum direction. \n",
    "The color reflects posterior probability density.\n",
    "\n",
    "|Remnant       | \n",
    "|-----------|\n",
    "| <video width=\"630\" height=\"315\" controls muted loop autoplay><source src=\"https://nrsur-catalog.github.io/NRSurCat-1-animations-remnant/GW190915_235702_remnant.mp4\" type=\"video/mp4\"> Your browser does not support the video tag.</video>    | \n",
    "\n",
    "Posterior samples for the dimensionless spin vector $\\chi_f$ and the recoil kick velocity \n",
    "$v_f$, (units of km/s). Each purple marker indicates a posterior sample; \n",
    "an arrow drawn from the origin to the marker would show the spin or kick vector. \n",
    "For the spin, the outer radii of the spheres correspond to the maximum spin magnitude of 1. \n",
    "For the kick, the outer radius of the sphere corresponds to a kick magnitude of 2500 km/s.\n",
    "The remnant spin and kick are shown in the \"wave frame\" defined at a \n",
    "reference time of -100 $M^{\\rm det}\\ [M_{\\odot}]$ before the peak waveform amplitude,\n",
    "where $M^{\\rm det}$ is the detector frame total mass.\n"
   ]
  },
  {
   "cell_type": "markdown",
   "id": "46243a9c",
   "metadata": {},
   "source": [
    "## Analysis configs\n",
    "Below are the configs used for the analysis of this job."
   ]
  },
  {
   "cell_type": "code",
   "execution_count": null,
   "id": "0fe3d60c",
   "metadata": {
    "tags": [
     "output_scroll"
    ]
   },
   "outputs": [],
   "source": [
    "nrsur_result.print_configs()"
   ]
  },
  {
   "cell_type": "markdown",
   "id": "919dd807",
   "metadata": {},
   "source": [
    "If you used this data, please [cite this work](citation_section).\n",
    "\n",
    "## Comments\n",
    "Leave a comment in this [issue](https://github.com/nrsur-catalog/NRSurCat-1/issues/new?title=GW190915_235702)."
   ]
  }
 ],
 "metadata": {
  "jupytext": {
   "formats": "ipynb,py:light"
  },
  "kernelspec": {
   "display_name": "nrsur",
   "language": "python",
   "name": "nrsur"
  }
 },
 "nbformat": 4,
 "nbformat_minor": 5
}
