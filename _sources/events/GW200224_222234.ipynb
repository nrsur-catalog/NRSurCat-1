{
 "cells": [
  {
   "cell_type": "markdown",
   "id": "2e03a7c5",
   "metadata": {
    "tags": [
     "ploomber-engine-error-cell"
    ]
   },
   "source": [
    "## <span style=\"color:red\">An Exception has occured at cell 5</span>"
   ]
  },
  {
   "cell_type": "markdown",
   "id": "eecfea7a",
   "metadata": {},
   "source": [
    "<a href=\"https://colab.research.google.com/github/cjhaster/NRSurrogateCatalog/blob/gh-pages/_sources/events/GW200224_222234.ipynb\" target=\"_parent\"><img src=\"https://colab.research.google.com/assets/colab-badge.svg\" alt=\"Open in Colab\"/></a>"
   ]
  },
  {
   "cell_type": "code",
   "execution_count": 1,
   "id": "b803e4e7",
   "metadata": {
    "ploomber": {
     "memory_usage": 543.59765625,
     "timestamp_end": 1694666546.356676,
     "timestamp_start": 1694666546.309334
    },
    "tags": [
     "remove-input"
    ]
   },
   "outputs": [],
   "source": [
    "%load_ext autoreload\n",
    "%autoreload 2\n",
    "%matplotlib inline\n",
    "\n",
    "import pandas as pd\n",
    "\n",
    "pd.set_option(\"display.max_rows\", None, \"display.max_columns\", None)"
   ]
  },
  {
   "cell_type": "code",
   "execution_count": 2,
   "id": "9edddd21",
   "metadata": {
    "ploomber": {
     "memory_usage": 543.59765625,
     "timestamp_end": 1694666546.392677,
     "timestamp_start": 1694666546.356755
    },
    "tags": [
     "hide-cell"
    ]
   },
   "outputs": [],
   "source": [
    "import pip\n",
    "\n",
    "try:\n",
    "    __import__(\"nrsur_catalog\")\n",
    "except ImportError:\n",
    "    pip.main([\"install\", \"nrsur_catalog\", \"-q\", ])\n"
   ]
  },
  {
   "cell_type": "markdown",
   "id": "4372ac64",
   "metadata": {},
   "source": [
    "# GW200224_222234\n",
    "\n",
    "Below are some plots for GW200224_222234 from the NRSurrogate Catalog."
   ]
  },
  {
   "cell_type": "code",
   "execution_count": 3,
   "id": "dd20c7c4",
   "metadata": {
    "ploomber": {
     "memory_usage": 703.6328125,
     "timestamp_end": 1694666547.164581,
     "timestamp_start": 1694666546.392764
    },
    "tags": [
     "remove-output"
    ]
   },
   "outputs": [],
   "source": [
    "from nrsur_catalog import NRsurResult\n",
    "\n",
    "nrsur_result = NRsurResult.load(\"GW200224_222234\", cache_dir=\".nrsur_catalog_cache\")\n",
    "# you can specify a `cache_dir`: folder where data will be downloaded"
   ]
  },
  {
   "cell_type": "markdown",
   "id": "165693d2",
   "metadata": {},
   "source": [
    "## Summary"
   ]
  },
  {
   "cell_type": "code",
   "execution_count": 4,
   "id": "3369fc4e",
   "metadata": {
    "ploomber": {
     "memory_usage": 705.60546875,
     "timestamp_end": 1694666547.350666,
     "timestamp_start": 1694666547.164677
    },
    "tags": [
     "remove-output"
    ]
   },
   "outputs": [
    {
     "data": {
      "text/html": [
       "<div>\n",
       "<style scoped>\n",
       "    .dataframe tbody tr th:only-of-type {\n",
       "        vertical-align: middle;\n",
       "    }\n",
       "\n",
       "    .dataframe tbody tr th {\n",
       "        vertical-align: top;\n",
       "    }\n",
       "\n",
       "    .dataframe thead th {\n",
       "        text-align: right;\n",
       "    }\n",
       "</style>\n",
       "<table border=\"1\" class=\"dataframe\">\n",
       "  <thead>\n",
       "    <tr style=\"text-align: right;\">\n",
       "      <th></th>\n",
       "      <th>Posterior 90% CI</th>\n",
       "      <th>Prior</th>\n",
       "    </tr>\n",
       "    <tr>\n",
       "      <th>Parameter</th>\n",
       "      <th></th>\n",
       "      <th></th>\n",
       "    </tr>\n",
       "  </thead>\n",
       "  <tbody>\n",
       "    <tr>\n",
       "      <th>$m_1\\ [M_{\\odot}]$</th>\n",
       "      <td>${51.71}_{-3.31}^{+4.29}$</td>\n",
       "      <td>$-$</td>\n",
       "    </tr>\n",
       "    <tr>\n",
       "      <th>$m_2\\ [M_{\\odot}]$</th>\n",
       "      <td>${42.96}_{-5.44}^{+3.64}$</td>\n",
       "      <td>$-$</td>\n",
       "    </tr>\n",
       "    <tr>\n",
       "      <th>$\\mathcal{M}\\ [M_{\\odot}]$</th>\n",
       "      <td>${40.73}_{-2.12}^{+1.92}$</td>\n",
       "      <td>$\\text{UniformInComponentsChirpMass} [12, 400]$</td>\n",
       "    </tr>\n",
       "    <tr>\n",
       "      <th>$q$</th>\n",
       "      <td>${0.83}_{-0.15}^{+0.11}$</td>\n",
       "      <td>$\\text{UniformInComponentsMassRatio} [0.17, 1]$</td>\n",
       "    </tr>\n",
       "    <tr>\n",
       "      <th>$a_1$</th>\n",
       "      <td>${0.37}_{-0.25}^{+0.34}$</td>\n",
       "      <td>$\\text{Uniform} [0, 0.99]$</td>\n",
       "    </tr>\n",
       "    <tr>\n",
       "      <th>$a_2$</th>\n",
       "      <td>${0.42}_{-0.28}^{+0.35}$</td>\n",
       "      <td>$\\text{Uniform} [0, 0.99]$</td>\n",
       "    </tr>\n",
       "    <tr>\n",
       "      <th>$\\theta_1$</th>\n",
       "      <td>${1.25}_{-0.53}^{+0.56}$</td>\n",
       "      <td>$\\text{Sine} [0, 3.14]$</td>\n",
       "    </tr>\n",
       "    <tr>\n",
       "      <th>$\\theta_2$</th>\n",
       "      <td>${1.41}_{-0.57}^{+0.64}$</td>\n",
       "      <td>$\\text{Sine} [0, 3.14]$</td>\n",
       "    </tr>\n",
       "    <tr>\n",
       "      <th>$\\chi_{\\mathrm{eff}}$</th>\n",
       "      <td>${0.09}_{-0.09}^{+0.09}$</td>\n",
       "      <td>$-$</td>\n",
       "    </tr>\n",
       "    <tr>\n",
       "      <th>$\\chi_{\\mathrm{p}}$</th>\n",
       "      <td>${0.43}_{-0.23}^{+0.27}$</td>\n",
       "      <td>$-$</td>\n",
       "    </tr>\n",
       "    <tr>\n",
       "      <th>$\\alpha$</th>\n",
       "      <td>${3.05}_{-0.03}^{+0.02}$</td>\n",
       "      <td>$-$</td>\n",
       "    </tr>\n",
       "    <tr>\n",
       "      <th>$\\delta$</th>\n",
       "      <td>${-0.16}_{-0.05}^{+0.05}$</td>\n",
       "      <td>$-$</td>\n",
       "    </tr>\n",
       "    <tr>\n",
       "      <th>$t_c\\ [s]$</th>\n",
       "      <td>${1266618172.38}_{-0.00}^{+0.00}$</td>\n",
       "      <td>$\\text{Uniform} [1266618172.3, 1266618172.5]$</td>\n",
       "    </tr>\n",
       "    <tr>\n",
       "      <th>$d_L\\ [Mpc]$</th>\n",
       "      <td>${1683.63}_{-424.16}^{+344.54}$</td>\n",
       "      <td>$\\text{UniformSourceFrame} [100.0, 10000.0]$</td>\n",
       "    </tr>\n",
       "    <tr>\n",
       "      <th>$\\phi$</th>\n",
       "      <td>${3.00}_{-2.02}^{+2.19}$</td>\n",
       "      <td>$\\text{Uniform} [0, 6.28]$</td>\n",
       "    </tr>\n",
       "    <tr>\n",
       "      <th>$\\phi$</th>\n",
       "      <td>${1.31}_{-0.06}^{+0.05}$</td>\n",
       "      <td>$\\text{Uniform} [0, 6.28]$</td>\n",
       "    </tr>\n",
       "    <tr>\n",
       "      <th>$\\theta$</th>\n",
       "      <td>${1.75}_{-0.01}^{+0.01}$</td>\n",
       "      <td>$\\text{Sine} [0, 3.14]$</td>\n",
       "    </tr>\n",
       "    <tr>\n",
       "      <th>$\\psi$</th>\n",
       "      <td>${1.67}_{-1.45}^{+1.26}$</td>\n",
       "      <td>$\\text{Uniform} [0, 3.14]$</td>\n",
       "    </tr>\n",
       "    <tr>\n",
       "      <th>$\\phi_{\\mathrm{JL}}$</th>\n",
       "      <td>${2.53}_{-0.97}^{+1.38}$</td>\n",
       "      <td>$\\text{Uniform} [0, 6.28]$</td>\n",
       "    </tr>\n",
       "    <tr>\n",
       "      <th>$\\phi_{12}$</th>\n",
       "      <td>${2.79}_{-1.91}^{+2.50}$</td>\n",
       "      <td>$\\text{Uniform} [0, 6.28]$</td>\n",
       "    </tr>\n",
       "    <tr>\n",
       "      <th>$\\theta_{\\mathrm{JN}}$</th>\n",
       "      <td>${0.63}_{-0.31}^{+0.33}$</td>\n",
       "      <td>$\\text{Sine} [0, 3.14]$</td>\n",
       "    </tr>\n",
       "    <tr>\n",
       "      <th>$m_f\\ [M_{\\odot}]$</th>\n",
       "      <td>${89.53}_{-3.72}^{+3.72}$</td>\n",
       "      <td>$-$</td>\n",
       "    </tr>\n",
       "    <tr>\n",
       "      <th>$\\chi_f$</th>\n",
       "      <td>${0.72}_{-0.04}^{+0.04}$</td>\n",
       "      <td>$-$</td>\n",
       "    </tr>\n",
       "    <tr>\n",
       "      <th>$v_{\\rm kick}\\ [{\\rm km/s}]$</th>\n",
       "      <td>${472.72}_{-312.54}^{+613.58}$</td>\n",
       "      <td>$-$</td>\n",
       "    </tr>\n",
       "  </tbody>\n",
       "</table>\n",
       "</div>"
      ],
      "text/plain": [
       "                                               Posterior 90% CI  \\\n",
       "Parameter                                                         \n",
       "$m_1\\ [M_{\\odot}]$                    ${51.71}_{-3.31}^{+4.29}$   \n",
       "$m_2\\ [M_{\\odot}]$                    ${42.96}_{-5.44}^{+3.64}$   \n",
       "$\\mathcal{M}\\ [M_{\\odot}]$            ${40.73}_{-2.12}^{+1.92}$   \n",
       "$q$                                    ${0.83}_{-0.15}^{+0.11}$   \n",
       "$a_1$                                  ${0.37}_{-0.25}^{+0.34}$   \n",
       "$a_2$                                  ${0.42}_{-0.28}^{+0.35}$   \n",
       "$\\theta_1$                             ${1.25}_{-0.53}^{+0.56}$   \n",
       "$\\theta_2$                             ${1.41}_{-0.57}^{+0.64}$   \n",
       "$\\chi_{\\mathrm{eff}}$                  ${0.09}_{-0.09}^{+0.09}$   \n",
       "$\\chi_{\\mathrm{p}}$                    ${0.43}_{-0.23}^{+0.27}$   \n",
       "$\\alpha$                               ${3.05}_{-0.03}^{+0.02}$   \n",
       "$\\delta$                              ${-0.16}_{-0.05}^{+0.05}$   \n",
       "$t_c\\ [s]$                    ${1266618172.38}_{-0.00}^{+0.00}$   \n",
       "$d_L\\ [Mpc]$                    ${1683.63}_{-424.16}^{+344.54}$   \n",
       "$\\phi$                                 ${3.00}_{-2.02}^{+2.19}$   \n",
       "$\\phi$                                 ${1.31}_{-0.06}^{+0.05}$   \n",
       "$\\theta$                               ${1.75}_{-0.01}^{+0.01}$   \n",
       "$\\psi$                                 ${1.67}_{-1.45}^{+1.26}$   \n",
       "$\\phi_{\\mathrm{JL}}$                   ${2.53}_{-0.97}^{+1.38}$   \n",
       "$\\phi_{12}$                            ${2.79}_{-1.91}^{+2.50}$   \n",
       "$\\theta_{\\mathrm{JN}}$                 ${0.63}_{-0.31}^{+0.33}$   \n",
       "$m_f\\ [M_{\\odot}]$                    ${89.53}_{-3.72}^{+3.72}$   \n",
       "$\\chi_f$                               ${0.72}_{-0.04}^{+0.04}$   \n",
       "$v_{\\rm kick}\\ [{\\rm km/s}]$     ${472.72}_{-312.54}^{+613.58}$   \n",
       "\n",
       "                                                                        Prior  \n",
       "Parameter                                                                      \n",
       "$m_1\\ [M_{\\odot}]$                                                        $-$  \n",
       "$m_2\\ [M_{\\odot}]$                                                        $-$  \n",
       "$\\mathcal{M}\\ [M_{\\odot}]$    $\\text{UniformInComponentsChirpMass} [12, 400]$  \n",
       "$q$                           $\\text{UniformInComponentsMassRatio} [0.17, 1]$  \n",
       "$a_1$                                              $\\text{Uniform} [0, 0.99]$  \n",
       "$a_2$                                              $\\text{Uniform} [0, 0.99]$  \n",
       "$\\theta_1$                                            $\\text{Sine} [0, 3.14]$  \n",
       "$\\theta_2$                                            $\\text{Sine} [0, 3.14]$  \n",
       "$\\chi_{\\mathrm{eff}}$                                                     $-$  \n",
       "$\\chi_{\\mathrm{p}}$                                                       $-$  \n",
       "$\\alpha$                                                                  $-$  \n",
       "$\\delta$                                                                  $-$  \n",
       "$t_c\\ [s]$                      $\\text{Uniform} [1266618172.3, 1266618172.5]$  \n",
       "$d_L\\ [Mpc]$                     $\\text{UniformSourceFrame} [100.0, 10000.0]$  \n",
       "$\\phi$                                             $\\text{Uniform} [0, 6.28]$  \n",
       "$\\phi$                                             $\\text{Uniform} [0, 6.28]$  \n",
       "$\\theta$                                              $\\text{Sine} [0, 3.14]$  \n",
       "$\\psi$                                             $\\text{Uniform} [0, 3.14]$  \n",
       "$\\phi_{\\mathrm{JL}}$                               $\\text{Uniform} [0, 6.28]$  \n",
       "$\\phi_{12}$                                        $\\text{Uniform} [0, 6.28]$  \n",
       "$\\theta_{\\mathrm{JN}}$                                $\\text{Sine} [0, 3.14]$  \n",
       "$m_f\\ [M_{\\odot}]$                                                        $-$  \n",
       "$\\chi_f$                                                                  $-$  \n",
       "$v_{\\rm kick}\\ [{\\rm km/s}]$                                              $-$  "
      ]
     },
     "execution_count": 4,
     "metadata": {},
     "output_type": "execute_result"
    }
   ],
   "source": [
    "nrsur_result.summary()"
   ]
  },
  {
   "cell_type": "markdown",
   "id": "a8df8b59",
   "metadata": {},
   "source": [
    "\n",
    "\n",
    "| Parameter                    | Posterior 90% CI                  | Prior                                           |\n",
    "|:-----------------------------|:----------------------------------|:------------------------------------------------|\n",
    "| $m_1\\ [M_{\\odot}]$           | ${51.71}_{-3.31}^{+4.29}$         | $-$                                             |\n",
    "| $m_2\\ [M_{\\odot}]$           | ${42.96}_{-5.44}^{+3.64}$         | $-$                                             |\n",
    "| $\\mathcal{M}\\ [M_{\\odot}]$   | ${40.73}_{-2.12}^{+1.92}$         | $\\text{UniformInComponentsChirpMass} [12, 400]$ |\n",
    "| $q$                          | ${0.83}_{-0.15}^{+0.11}$          | $\\text{UniformInComponentsMassRatio} [0.17, 1]$ |\n",
    "| $a_1$                        | ${0.37}_{-0.25}^{+0.34}$          | $\\text{Uniform} [0, 0.99]$                      |\n",
    "| $a_2$                        | ${0.42}_{-0.28}^{+0.35}$          | $\\text{Uniform} [0, 0.99]$                      |\n",
    "| $\\theta_1$                   | ${1.25}_{-0.53}^{+0.56}$          | $\\text{Sine} [0, 3.14]$                         |\n",
    "| $\\theta_2$                   | ${1.41}_{-0.57}^{+0.64}$          | $\\text{Sine} [0, 3.14]$                         |\n",
    "| $\\chi_{\\mathrm{eff}}$        | ${0.09}_{-0.09}^{+0.09}$          | $-$                                             |\n",
    "| $\\chi_{\\mathrm{p}}$          | ${0.43}_{-0.23}^{+0.27}$          | $-$                                             |\n",
    "| $\\alpha$                     | ${3.05}_{-0.03}^{+0.02}$          | $-$                                             |\n",
    "| $\\delta$                     | ${-0.16}_{-0.05}^{+0.05}$         | $-$                                             |\n",
    "| $t_c\\ [s]$                   | ${1266618172.38}_{-0.00}^{+0.00}$ | $\\text{Uniform} [1266618172.3, 1266618172.5]$   |\n",
    "| $d_L\\ [Mpc]$                 | ${1683.63}_{-424.16}^{+344.54}$   | $\\text{UniformSourceFrame} [100.0, 10000.0]$    |\n",
    "| $\\phi$                       | ${3.00}_{-2.02}^{+2.19}$          | $\\text{Uniform} [0, 6.28]$                      |\n",
    "| $\\phi$                       | ${1.31}_{-0.06}^{+0.05}$          | $\\text{Uniform} [0, 6.28]$                      |\n",
    "| $\\theta$                     | ${1.75}_{-0.01}^{+0.01}$          | $\\text{Sine} [0, 3.14]$                         |\n",
    "| $\\psi$                       | ${1.67}_{-1.45}^{+1.26}$          | $\\text{Uniform} [0, 3.14]$                      |\n",
    "| $\\phi_{\\mathrm{JL}}$         | ${2.53}_{-0.97}^{+1.38}$          | $\\text{Uniform} [0, 6.28]$                      |\n",
    "| $\\phi_{12}$                  | ${2.79}_{-1.91}^{+2.50}$          | $\\text{Uniform} [0, 6.28]$                      |\n",
    "| $\\theta_{\\mathrm{JN}}$       | ${0.63}_{-0.31}^{+0.33}$          | $\\text{Sine} [0, 3.14]$                         |\n",
    "| $m_f\\ [M_{\\odot}]$           | ${89.53}_{-3.72}^{+3.72}$         | $-$                                             |\n",
    "| $\\chi_f$                     | ${0.72}_{-0.04}^{+0.04}$          | $-$                                             |\n",
    "| $v_{\\rm kick}\\ [{\\rm km/s}]$ | ${472.72}_{-312.54}^{+613.58}$    | $-$                                             |\n"
   ]
  },
  {
   "cell_type": "markdown",
   "id": "63f9dcda",
   "metadata": {},
   "source": [
    "Lets make some plots!"
   ]
  },
  {
   "cell_type": "markdown",
   "id": "c48b8fad",
   "metadata": {
    "tags": [
     "ploomber-engine-error-cell"
    ]
   },
   "source": [
    "## <span style=\"color:red\">Ploomber Engine raised an exception due to the cell below </span>"
   ]
  },
  {
   "cell_type": "code",
   "execution_count": 5,
   "id": "2a13f513",
   "metadata": {
    "ploomber": {
     "memory_usage": 706.21875,
     "timestamp_end": 1694666547.437803,
     "timestamp_start": 1694666547.350761
    },
    "tags": [
     "hide-input",
     "remove-output"
    ]
   },
   "outputs": [
    {
     "ename": "OSError",
     "evalue": "Unable to open file (truncated file: eof = 53803008, sblock->base_addr = 0, stored_eof = 337523632)",
     "output_type": "error",
     "traceback": [
      "\u001b[0;31m---------------------------------------------------------------------------\u001b[0m",
      "\u001b[0;31mOSError\u001b[0m                                   Traceback (most recent call last)",
      "\u001b[0;32m<ipython-input-1-63c9f656a7a3>\u001b[0m in \u001b[0;36m<cell line: 12>\u001b[0;34m()\u001b[0m",
      "\u001b[1;32m     22\u001b[0m     \u001b[0mfname\u001b[0m \u001b[0;34m=\u001b[0m \u001b[0;34mf\"GW200224_222234_compare_{name}_corner.png\"\u001b[0m\u001b[0;34m\u001b[0m\u001b[0;34m\u001b[0m\u001b[0m",
      "\u001b[1;32m     23\u001b[0m     \u001b[0;32mif\u001b[0m \u001b[0;32mnot\u001b[0m \u001b[0mos\u001b[0m\u001b[0;34m.\u001b[0m\u001b[0mpath\u001b[0m\u001b[0;34m.\u001b[0m\u001b[0misfile\u001b[0m\u001b[0;34m(\u001b[0m\u001b[0mfname\u001b[0m\u001b[0;34m)\u001b[0m\u001b[0;34m:\u001b[0m\u001b[0;34m\u001b[0m\u001b[0;34m\u001b[0m\u001b[0m",
      "\u001b[0;32m---> 24\u001b[0;31m         \u001b[0mfig\u001b[0m \u001b[0;34m=\u001b[0m \u001b[0mnrsur_result\u001b[0m\u001b[0;34m.\u001b[0m\u001b[0mplot_lvk_comparison_corner\u001b[0m\u001b[0;34m(\u001b[0m\u001b[0mparams\u001b[0m\u001b[0;34m)\u001b[0m\u001b[0;34m\u001b[0m\u001b[0;34m\u001b[0m\u001b[0m",
      "\u001b[0m\u001b[1;32m     25\u001b[0m         \u001b[0mfig\u001b[0m\u001b[0;34m.\u001b[0m\u001b[0msavefig\u001b[0m\u001b[0;34m(\u001b[0m\u001b[0mfname\u001b[0m\u001b[0;34m)\u001b[0m\u001b[0;34m\u001b[0m\u001b[0;34m\u001b[0m\u001b[0m",
      "",
      "\u001b[0;32m~/Documents/projects/nrsur_prod/src/nrsur_catalog/nrsur_result.py\u001b[0m in \u001b[0;36mplot_lvk_comparison_corner\u001b[0;34m(self, parameters, **kwargs)\u001b[0m",
      "\u001b[1;32m    251\u001b[0m         return plot_overlaid_corner(",
      "\u001b[1;32m    252\u001b[0m             \u001b[0mr1\u001b[0m\u001b[0;34m=\u001b[0m\u001b[0mself\u001b[0m\u001b[0;34m,\u001b[0m\u001b[0;34m\u001b[0m\u001b[0;34m\u001b[0m\u001b[0m",
      "\u001b[0;32m--> 253\u001b[0;31m             \u001b[0mr2\u001b[0m\u001b[0;34m=\u001b[0m\u001b[0mself\u001b[0m\u001b[0;34m.\u001b[0m\u001b[0mlvk_result\u001b[0m\u001b[0;34m,\u001b[0m\u001b[0;34m\u001b[0m\u001b[0;34m\u001b[0m\u001b[0m",
      "\u001b[0m\u001b[1;32m    254\u001b[0m             \u001b[0mparameters\u001b[0m\u001b[0;34m=\u001b[0m\u001b[0mparameters\u001b[0m\u001b[0;34m,\u001b[0m\u001b[0;34m\u001b[0m\u001b[0;34m\u001b[0m\u001b[0m",
      "\u001b[1;32m    255\u001b[0m             \u001b[0mlabels\u001b[0m\u001b[0;34m=\u001b[0m\u001b[0;34m[\u001b[0m\u001b[0;34m\"NRSur7dq4\"\u001b[0m\u001b[0;34m,\u001b[0m \u001b[0;34m\"LVK [XPHM]\"\u001b[0m\u001b[0;34m]\u001b[0m\u001b[0;34m,\u001b[0m\u001b[0;34m\u001b[0m\u001b[0;34m\u001b[0m\u001b[0m",
      "",
      "\u001b[0;32m~/Documents/projects/nrsur_prod/src/nrsur_catalog/nrsur_result.py\u001b[0m in \u001b[0;36mlvk_result\u001b[0;34m(self)\u001b[0m",
      "\u001b[1;32m    286\u001b[0m         \u001b[0;34m\"\"\"The event's corresponding LVK result (from the GWTC).\"\"\"\u001b[0m\u001b[0;34m\u001b[0m\u001b[0;34m\u001b[0m\u001b[0m",
      "\u001b[1;32m    287\u001b[0m         \u001b[0;32mif\u001b[0m \u001b[0;32mnot\u001b[0m \u001b[0mhasattr\u001b[0m\u001b[0;34m(\u001b[0m\u001b[0mself\u001b[0m\u001b[0;34m,\u001b[0m \u001b[0;34m\"_lvk_result\"\u001b[0m\u001b[0;34m)\u001b[0m\u001b[0;34m:\u001b[0m\u001b[0;34m\u001b[0m\u001b[0;34m\u001b[0m\u001b[0m",
      "\u001b[0;32m--> 288\u001b[0;31m             self._lvk_result = load_lvk_result(",
      "\u001b[0m\u001b[1;32m    289\u001b[0m                 \u001b[0mself\u001b[0m\u001b[0;34m.\u001b[0m\u001b[0mlabel\u001b[0m\u001b[0;34m,\u001b[0m \u001b[0mcache_dir\u001b[0m\u001b[0;34m=\u001b[0m\u001b[0mos\u001b[0m\u001b[0;34m.\u001b[0m\u001b[0mpath\u001b[0m\u001b[0;34m.\u001b[0m\u001b[0mdirname\u001b[0m\u001b[0;34m(\u001b[0m\u001b[0mself\u001b[0m\u001b[0;34m.\u001b[0m\u001b[0moutdir\u001b[0m\u001b[0;34m)\u001b[0m\u001b[0;34m\u001b[0m\u001b[0;34m\u001b[0m\u001b[0m",
      "\u001b[1;32m    290\u001b[0m             )",
      "",
      "\u001b[0;32m~/Documents/projects/nrsur_prod/src/nrsur_catalog/lvk_posterior.py\u001b[0m in \u001b[0;36mload_lvk_result\u001b[0;34m(event_name, cache_dir)\u001b[0m",
      "\u001b[1;32m     18\u001b[0m     \u001b[0mevent_path\u001b[0m \u001b[0;34m=\u001b[0m \u001b[0mCACHE\u001b[0m\u001b[0;34m.\u001b[0m\u001b[0mfind\u001b[0m\u001b[0;34m(\u001b[0m\u001b[0mevent_name\u001b[0m\u001b[0;34m,\u001b[0m \u001b[0mlvk_posteriors\u001b[0m\u001b[0;34m=\u001b[0m\u001b[0;32mTrue\u001b[0m\u001b[0;34m,\u001b[0m \u001b[0mhard_fail\u001b[0m\u001b[0;34m=\u001b[0m\u001b[0;32mTrue\u001b[0m\u001b[0;34m)\u001b[0m\u001b[0;34m\u001b[0m\u001b[0;34m\u001b[0m\u001b[0m",
      "\u001b[1;32m     19\u001b[0m \u001b[0;34m\u001b[0m\u001b[0m",
      "\u001b[0;32m---> 20\u001b[0;31m     \u001b[0;32mwith\u001b[0m \u001b[0mh5py\u001b[0m\u001b[0;34m.\u001b[0m\u001b[0mFile\u001b[0m\u001b[0;34m(\u001b[0m\u001b[0mevent_path\u001b[0m\u001b[0;34m,\u001b[0m \u001b[0;34m\"r\"\u001b[0m\u001b[0;34m)\u001b[0m \u001b[0;32mas\u001b[0m \u001b[0mf\u001b[0m\u001b[0;34m:\u001b[0m\u001b[0;34m\u001b[0m\u001b[0;34m\u001b[0m\u001b[0m",
      "\u001b[0m\u001b[1;32m     21\u001b[0m         \u001b[0mres\u001b[0m \u001b[0;34m=\u001b[0m \u001b[0mf\u001b[0m\u001b[0;34m[\u001b[0m\u001b[0mLVK_LABEL\u001b[0m\u001b[0;34m]\u001b[0m\u001b[0;34m\u001b[0m\u001b[0;34m\u001b[0m\u001b[0m",
      "\u001b[1;32m     22\u001b[0m         \u001b[0mdf\u001b[0m \u001b[0;34m=\u001b[0m \u001b[0mpd\u001b[0m\u001b[0;34m.\u001b[0m\u001b[0mDataFrame\u001b[0m\u001b[0;34m(\u001b[0m\u001b[0mres\u001b[0m\u001b[0;34m[\u001b[0m\u001b[0;34m\"posterior_samples\"\u001b[0m\u001b[0;34m]\u001b[0m\u001b[0;34m[\u001b[0m\u001b[0;34m:\u001b[0m\u001b[0;34m]\u001b[0m\u001b[0;34m)\u001b[0m\u001b[0;34m\u001b[0m\u001b[0;34m\u001b[0m\u001b[0m",
      "",
      "\u001b[0;32m~/Documents/projects/deep_gw_pe_followup/venv/lib/python3.9/site-packages/h5py-3.6.0-py3.9-macosx-10.15-x86_64.egg/h5py/_hl/files.py\u001b[0m in \u001b[0;36m__init__\u001b[0;34m(self, name, mode, driver, libver, userblock_size, swmr, rdcc_nslots, rdcc_nbytes, rdcc_w0, track_order, fs_strategy, fs_persist, fs_threshold, fs_page_size, page_buf_size, min_meta_keep, min_raw_keep, locking, **kwds)\u001b[0m",
      "\u001b[1;32m    505\u001b[0m                                  \u001b[0mfs_persist\u001b[0m\u001b[0;34m=\u001b[0m\u001b[0mfs_persist\u001b[0m\u001b[0;34m,\u001b[0m \u001b[0mfs_threshold\u001b[0m\u001b[0;34m=\u001b[0m\u001b[0mfs_threshold\u001b[0m\u001b[0;34m,\u001b[0m\u001b[0;34m\u001b[0m\u001b[0;34m\u001b[0m\u001b[0m",
      "\u001b[1;32m    506\u001b[0m                                  fs_page_size=fs_page_size)",
      "\u001b[0;32m--> 507\u001b[0;31m                 \u001b[0mfid\u001b[0m \u001b[0;34m=\u001b[0m \u001b[0mmake_fid\u001b[0m\u001b[0;34m(\u001b[0m\u001b[0mname\u001b[0m\u001b[0;34m,\u001b[0m \u001b[0mmode\u001b[0m\u001b[0;34m,\u001b[0m \u001b[0muserblock_size\u001b[0m\u001b[0;34m,\u001b[0m \u001b[0mfapl\u001b[0m\u001b[0;34m,\u001b[0m \u001b[0mfcpl\u001b[0m\u001b[0;34m,\u001b[0m \u001b[0mswmr\u001b[0m\u001b[0;34m=\u001b[0m\u001b[0mswmr\u001b[0m\u001b[0;34m)\u001b[0m\u001b[0;34m\u001b[0m\u001b[0;34m\u001b[0m\u001b[0m",
      "\u001b[0m\u001b[1;32m    508\u001b[0m \u001b[0;34m\u001b[0m\u001b[0m",
      "\u001b[1;32m    509\u001b[0m             \u001b[0;32mif\u001b[0m \u001b[0misinstance\u001b[0m\u001b[0;34m(\u001b[0m\u001b[0mlibver\u001b[0m\u001b[0;34m,\u001b[0m \u001b[0mtuple\u001b[0m\u001b[0;34m)\u001b[0m\u001b[0;34m:\u001b[0m\u001b[0;34m\u001b[0m\u001b[0;34m\u001b[0m\u001b[0m",
      "",
      "\u001b[0;32m~/Documents/projects/deep_gw_pe_followup/venv/lib/python3.9/site-packages/h5py-3.6.0-py3.9-macosx-10.15-x86_64.egg/h5py/_hl/files.py\u001b[0m in \u001b[0;36mmake_fid\u001b[0;34m(name, mode, userblock_size, fapl, fcpl, swmr)\u001b[0m",
      "\u001b[1;32m    218\u001b[0m         \u001b[0;32mif\u001b[0m \u001b[0mswmr\u001b[0m \u001b[0;32mand\u001b[0m \u001b[0mswmr_support\u001b[0m\u001b[0;34m:\u001b[0m\u001b[0;34m\u001b[0m\u001b[0;34m\u001b[0m\u001b[0m",
      "\u001b[1;32m    219\u001b[0m             \u001b[0mflags\u001b[0m \u001b[0;34m|=\u001b[0m \u001b[0mh5f\u001b[0m\u001b[0;34m.\u001b[0m\u001b[0mACC_SWMR_READ\u001b[0m\u001b[0;34m\u001b[0m\u001b[0;34m\u001b[0m\u001b[0m",
      "\u001b[0;32m--> 220\u001b[0;31m         \u001b[0mfid\u001b[0m \u001b[0;34m=\u001b[0m \u001b[0mh5f\u001b[0m\u001b[0;34m.\u001b[0m\u001b[0mopen\u001b[0m\u001b[0;34m(\u001b[0m\u001b[0mname\u001b[0m\u001b[0;34m,\u001b[0m \u001b[0mflags\u001b[0m\u001b[0;34m,\u001b[0m \u001b[0mfapl\u001b[0m\u001b[0;34m=\u001b[0m\u001b[0mfapl\u001b[0m\u001b[0;34m)\u001b[0m\u001b[0;34m\u001b[0m\u001b[0;34m\u001b[0m\u001b[0m",
      "\u001b[0m\u001b[1;32m    221\u001b[0m     \u001b[0;32melif\u001b[0m \u001b[0mmode\u001b[0m \u001b[0;34m==\u001b[0m \u001b[0;34m'r+'\u001b[0m\u001b[0;34m:\u001b[0m\u001b[0;34m\u001b[0m\u001b[0;34m\u001b[0m\u001b[0m",
      "\u001b[1;32m    222\u001b[0m         \u001b[0mfid\u001b[0m \u001b[0;34m=\u001b[0m \u001b[0mh5f\u001b[0m\u001b[0;34m.\u001b[0m\u001b[0mopen\u001b[0m\u001b[0;34m(\u001b[0m\u001b[0mname\u001b[0m\u001b[0;34m,\u001b[0m \u001b[0mh5f\u001b[0m\u001b[0;34m.\u001b[0m\u001b[0mACC_RDWR\u001b[0m\u001b[0;34m,\u001b[0m \u001b[0mfapl\u001b[0m\u001b[0;34m=\u001b[0m\u001b[0mfapl\u001b[0m\u001b[0;34m)\u001b[0m\u001b[0;34m\u001b[0m\u001b[0;34m\u001b[0m\u001b[0m",
      "",
      "\u001b[0;32mh5py/_objects.pyx\u001b[0m in \u001b[0;36mh5py._objects.with_phil.wrapper\u001b[0;34m()\u001b[0m",
      "",
      "\u001b[0;32mh5py/_objects.pyx\u001b[0m in \u001b[0;36mh5py._objects.with_phil.wrapper\u001b[0;34m()\u001b[0m",
      "",
      "\u001b[0;32mh5py/h5f.pyx\u001b[0m in \u001b[0;36mh5py.h5f.open\u001b[0;34m()\u001b[0m",
      "",
      "\u001b[0;31mOSError\u001b[0m: Unable to open file (truncated file: eof = 53803008, sblock->base_addr = 0, stored_eof = 337523632)"
     ]
    }
   ],
   "source": [
    "# NRSurrogate corner plots\n",
    "\n",
    "import os\n",
    "\n",
    "param_sets = dict(\n",
    "    mass=[\"mass_1\", \"mass_2\", \"chirp_mass\", \"mass_ratio\"],\n",
    "    spin=[\"a_1\", \"a_2\", \"tilt_1\", \"tilt_2\"],\n",
    "    effective_spin=[\"mass_ratio\", \"chi_eff\", \"chi_p\"],\n",
    "    sky_localisation=[\"luminosity_distance\", \"ra\", \"dec\"],\n",
    "    remnant=[\"final_mass\", \"final_spin\", \"final_kick\"],\n",
    ")\n",
    "for name, params in param_sets.items():\n",
    "    fname = f\"GW200224_222234_{name}_corner.png\"\n",
    "    if not os.path.isfile(fname):\n",
    "        fig = nrsur_result.plot_corner(params)\n",
    "        fig.savefig(fname)\n",
    "\n",
    "    if name == \"remnant\":\n",
    "        continue\n",
    "\n",
    "    # LVK-Comparison plots\n",
    "    fname = f\"GW200224_222234_compare_{name}_corner.png\"\n",
    "    if not os.path.isfile(fname):\n",
    "        fig = nrsur_result.plot_lvk_comparison_corner(params)\n",
    "        fig.savefig(fname)\n"
   ]
  },
  {
   "cell_type": "markdown",
   "id": "94b1d65f",
   "metadata": {},
   "source": [
    "## Corner Plots\n",
    "\n",
    "### Mass\n",
    "\n",
    "\n",
    "::::{tab-set}\n",
    "\n",
    ":::{tab-item} NRSurrogate\n",
    ":sync: key1\n",
    "\n",
    "![\"GW200224_222234_mass_corner.png\"](GW200224_222234_mass_corner.png)\n",
    ":::\n",
    "\n",
    ":::{tab-item} LVK-Comparison\n",
    ":sync: key2\n",
    "\n",
    "![\"GW200224_222234_compare_mass_corner.png\"](GW200224_222234_compare_mass_corner.png)\n",
    ":::\n",
    "\n",
    "::::\n",
    "\n",
    "\n",
    "\n",
    "### Spin\n",
    "\n",
    "\n",
    "::::{tab-set}\n",
    "\n",
    ":::{tab-item} NRSurrogate\n",
    ":sync: key1\n",
    "\n",
    "![\"GW200224_222234_spin_corner.png\"](GW200224_222234_spin_corner.png)\n",
    ":::\n",
    "\n",
    ":::{tab-item} LVK-Comparison\n",
    ":sync: key2\n",
    "\n",
    "![\"GW200224_222234_compare_spin_corner.png\"](GW200224_222234_compare_spin_corner.png)\n",
    ":::\n",
    "\n",
    "::::\n",
    "\n",
    "\n",
    "### Effective Spin\n",
    "\n",
    "\n",
    "::::{tab-set}\n",
    "\n",
    ":::{tab-item} NRSurrogate\n",
    ":sync: key1\n",
    "\n",
    "![\"GW200224_222234_effective_spin_corner.png\"](GW200224_222234_effective_spin_corner.png)\n",
    ":::\n",
    "\n",
    ":::{tab-item} LVK-Comparison\n",
    ":sync: key2\n",
    "\n",
    "![\"GW200224_222234_compare_effective_spin_corner.png\"](GW200224_222234_compare_effective_spin_corner.png)\n",
    ":::\n",
    "\n",
    "::::\n",
    "\n",
    "\n",
    "\n",
    "### Sky-localisation\n",
    "\n",
    "\n",
    "::::{tab-set}\n",
    "\n",
    ":::{tab-item} NRSurrogate\n",
    ":sync: key1\n",
    "\n",
    "![\"GW200224_222234_sky_localisation_corner.png\"](GW200224_222234_sky_localisation_corner.png)\n",
    ":::\n",
    "\n",
    ":::{tab-item} LVK-Comparison\n",
    ":sync: key2\n",
    "\n",
    "![\"GW200224_222234_compare_sky_localisation_corner.png\"](GW200224_222234_compare_sky_localisation_corner.png)\n",
    ":::\n",
    "\n",
    "::::\n",
    "\n",
    "\n",
    "\n",
    "### Remnant\n",
    "\n",
    "![\"GW200224_222234_remnant_corner.png\"](GW200224_222234_remnant_corner.png)\n"
   ]
  },
  {
   "cell_type": "markdown",
   "id": "7cc18029",
   "metadata": {},
   "source": [
    "## Waveform posterior-predictive plot"
   ]
  },
  {
   "cell_type": "code",
   "execution_count": null,
   "id": "bc130755",
   "metadata": {
    "tags": [
     "hide-input",
     "remove-output"
    ]
   },
   "outputs": [],
   "source": [
    "fname = f\"GW200224_222234_waveform.png\"\n",
    "if not os.path.isfile(fname):\n",
    "    fig = nrsur_result.plot_signal(outdir=\".\")\n"
   ]
  },
  {
   "cell_type": "markdown",
   "id": "3e8e9e0e",
   "metadata": {
    "lines_to_next_cell": 2
   },
   "source": [
    "![waveform](GW200224_222234_waveform.png)"
   ]
  },
  {
   "cell_type": "markdown",
   "id": "95aebbb8",
   "metadata": {
    "lines_to_next_cell": 2,
    "tags": [
     "full-width"
    ]
   },
   "source": [
    "## Animations  \n",
    "Here are some animations of the posterior.\n",
    "\n",
    "|Spin       | \n",
    "|-----------|\n",
    "| <iframe width=\"630\" height=\"315\" src=\"https://www.youtube.com/embed/ZxHoL64dmoM?autoplay=1&mute=1&playlist=ZxHoL64dmoM&loop=1\" frameborder=\"0\" allow=\"accelerometer; autoplay; clipboard-write; encrypted-media; gyroscope; picture-in-picture; web-share\" referrerpolicy=\"no-referrer-when-downgrade\" allowfullscreen></iframe>    |  \n",
    "\n",
    "Posterior samples for the dimensionless spin vectors (chi1, chi2) \n",
    "of the component black holes. Each purple marker indicates a posterior sample; \n",
    "an arrow drawn from the origin to the marker would show the spin vector. \n",
    "The outer radii of the spheres correspond to the maximum spin magnitude of 1. \n",
    "The spins are shown in the \"wave frame\" defined at a reference frequency of 20 Hz. \n",
    "The x-axis (orange) and y-axis (green) are shown as arrows near the origin; \n",
    "the x-y plane is orthogonal to the orbital angular momentum direction. \n",
    "The color reflects posterior probability density.\n",
    "\n",
    "|Remnant       | \n",
    "|-----------|\n",
    "| <iframe width=\"630\" height=\"315\" src=\"https://www.youtube.com/embed/_HULeQUbrp0?autoplay=1&mute=1&playlist=_HULeQUbrp0&loop=1\" frameborder=\"0\" allow=\"accelerometer; autoplay; clipboard-write; encrypted-media; gyroscope; picture-in-picture; web-share\" referrerpolicy=\"no-referrer-when-downgrade\" allowfullscreen></iframe>    | \n",
    "\n",
    "Posterior samples for the dimensionless spin vector (chif) and the recoil kick velocity \n",
    "(vf, units of km/s). Each purple marker indicates a posterior sample; \n",
    "an arrow drawn from the origin to the marker would show the spin or kick vector. \n",
    "For the spin, the outer radii of the spheres correspond to the maximum spin magnitude of 1. \n",
    "For the kick, the outer radius of the sphere corresponds to a kick magnitude of 2500 km/s.\n",
    "The remnant spin and kick are shown in the \"wave frame\" defined at a \n",
    "reference time of -100 M_det before the peak waveform amplitude,\n",
    "where M_det is the detector frame total mass.\n"
   ]
  },
  {
   "cell_type": "markdown",
   "id": "cc0b3fcc",
   "metadata": {},
   "source": [
    "## Analysis configs\n",
    "Below are the configs used for the analysis of this job."
   ]
  },
  {
   "cell_type": "code",
   "execution_count": null,
   "id": "c81501cd",
   "metadata": {
    "tags": [
     "output_scroll"
    ]
   },
   "outputs": [],
   "source": [
    "nrsur_result.print_configs()"
   ]
  },
  {
   "cell_type": "markdown",
   "id": "62c37838",
   "metadata": {},
   "source": [
    "If you used this data, please [cite this work](../citation.md).\n",
    "\n",
    "## Comments\n",
    "Leave a comment in this [issue](https://github.com/nrsur-catalog/NRSurCat-1/issues/new?title=GW200224_222234)."
   ]
  },
  {
   "cell_type": "code",
   "execution_count": null,
   "id": "d8d8e5af",
   "metadata": {},
   "outputs": [],
   "source": []
  }
 ],
 "metadata": {
  "jupytext": {
   "formats": "ipynb,py:light"
  },
  "kernelspec": {
   "display_name": "nrsur",
   "language": "python",
   "name": "nrsur"
  }
 },
 "nbformat": 4,
 "nbformat_minor": 5
}
